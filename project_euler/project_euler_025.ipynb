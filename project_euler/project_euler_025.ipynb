{
 "metadata": {
  "name": "",
  "signature": "sha256:b374df3b2c53c778ba5c0d5eb7bb56bac89659886e312cc85de373e8d411a878"
 },
 "nbformat": 3,
 "nbformat_minor": 0,
 "worksheets": [
  {
   "cells": [
    {
     "cell_type": "markdown",
     "metadata": {},
     "source": [
      "##Problema 21"
     ]
    },
    {
     "cell_type": "markdown",
     "metadata": {},
     "source": [
      "Hecho en archivo de python"
     ]
    },
    {
     "cell_type": "markdown",
     "metadata": {},
     "source": [
      "##Problema 22"
     ]
    },
    {
     "cell_type": "code",
     "collapsed": false,
     "input": [
      "from IPython.display import HTML\n",
      "HTML('<iframe src=\"https://projecteuler.net/problem=22\" width=800 height=400></iframe>')"
     ],
     "language": "python",
     "metadata": {},
     "outputs": [
      {
       "html": [
        "<iframe src=\"https://projecteuler.net/problem=22\" width=800 height=400></iframe>"
       ],
       "metadata": {},
       "output_type": "pyout",
       "prompt_number": 1,
       "text": [
        "<IPython.core.display.HTML at 0x7f015c4b0c50>"
       ]
      }
     ],
     "prompt_number": 1
    },
    {
     "cell_type": "code",
     "collapsed": false,
     "input": [
      "import numpy\n",
      "import time\n",
      "\n",
      "start = time.time()\n",
      "\n",
      "def names():\n",
      "    f = open(\"p022_names.txt\", \"r\")\n",
      "    text = f.read().split(\",\")\n",
      "    words = []\n",
      "    for i in text:\n",
      "        words.append(i.replace(\"\\\"\", \"\"))\n",
      "    return sorted(words)\n",
      "\n",
      "def value(str_list):\n",
      "    sum_t = 0\n",
      "    index = 0\n",
      "    dict_val = { 'A': 1, 'B':2, 'C': 3, 'D': 4, 'E': 5, 'F': 6,'G': 7,'H': 8,'I': 9,'J': 10,'K': 11,'L': 12,'M': 13,'N': 14,'O': 15,'P': 16,'Q': 17,'R': 18,'S': 19,'T': 20,'U': 21,'V': 22,'W': 23,'X': 24,'Y': 25,'Z': 26 }\n",
      "    for i in str_list:\n",
      "        index += 1\n",
      "        sum_w = 0\n",
      "        for j in i:\n",
      "            sum_w += dict_val[j]\n",
      "        sum_t += sum_w * index\n",
      "#         print(i, sum_w * index)\n",
      "    return sum_t\n",
      "    \n",
      "print(value(names()))\n",
      "value(names())\n",
      "print(\"t = {:.5f} seg\".format(time.time() - start))"
     ],
     "language": "python",
     "metadata": {},
     "outputs": [
      {
       "output_type": "stream",
       "stream": "stdout",
       "text": [
        "871198282\n",
        "t = 0.01753 seg\n"
       ]
      }
     ],
     "prompt_number": 66
    },
    {
     "cell_type": "code",
     "collapsed": false,
     "input": [
      "a = ['adsaf', 'ewrwe' 'asdf ' 'qwer ']\n",
      "a.sort()"
     ],
     "language": "python",
     "metadata": {},
     "outputs": [],
     "prompt_number": 56
    },
    {
     "cell_type": "code",
     "collapsed": false,
     "input": [
      "a"
     ],
     "language": "python",
     "metadata": {},
     "outputs": [
      {
       "metadata": {},
       "output_type": "pyout",
       "prompt_number": 57,
       "text": [
        "['adsaf', 'ewrweasdf qwer ']"
       ]
      }
     ],
     "prompt_number": 57
    },
    {
     "cell_type": "code",
     "collapsed": false,
     "input": [
      "sorted(a)"
     ],
     "language": "python",
     "metadata": {},
     "outputs": [
      {
       "metadata": {},
       "output_type": "pyout",
       "prompt_number": 59,
       "text": [
        "['adsaf', 'ewrweasdf qwer ']"
       ]
      }
     ],
     "prompt_number": 59
    },
    {
     "cell_type": "markdown",
     "metadata": {},
     "source": [
      "##Problema 24"
     ]
    },
    {
     "cell_type": "code",
     "collapsed": false,
     "input": [
      "from IPython.display import HTML\n",
      "HTML('<iframe src=\"https://projecteuler.net/problem=24\" width=800 height=400></iframe>')"
     ],
     "language": "python",
     "metadata": {},
     "outputs": [
      {
       "html": [
        "<iframe src=\"https://projecteuler.net/problem=24\" width=800 height=400></iframe>"
       ],
       "metadata": {},
       "output_type": "pyout",
       "prompt_number": 1,
       "text": [
        "<IPython.core.display.HTML at 0x7fc345f29cd0>"
       ]
      }
     ],
     "prompt_number": 1
    },
    {
     "cell_type": "code",
     "collapsed": false,
     "input": [
      "import itertools\n",
      "import time\n",
      "\n",
      "start = time.time()\n",
      "\n",
      "a = [0, 1, 2, 3, 4, 5, 6, 7, 8, 9]\n",
      "count = 0\n",
      "for i in itertools.permutations(a, 10):\n",
      "    count +=1\n",
      "    if count == 1000000:\n",
      "        print(i)\n",
      "        break\n",
      "        \n",
      "print(\"t = {:.5f} seg\".format(time.time() - start))"
     ],
     "language": "python",
     "metadata": {},
     "outputs": [
      {
       "output_type": "stream",
       "stream": "stdout",
       "text": [
        "(2, 7, 8, 3, 9, 1, 5, 4, 6, 0)\n",
        "t = 0.22544 seg\n"
       ]
      }
     ],
     "prompt_number": 7
    },
    {
     "cell_type": "code",
     "collapsed": false,
     "input": [
      "## AQUI ESTA EL CODIGO DE LA FUNCION EMPLEADA DEL MODURLO itertools\n",
      "def permutations(iterable, r=None):\n",
      "    pool = tuple(iterable)\n",
      "    n = len(pool)\n",
      "    r = n if r is None else r\n",
      "    if r > n:\n",
      "        return\n",
      "    indices = list(range(n))\n",
      "    cycles = list(range(n, n-r, -1))\n",
      "    yield tuple(pool[i] for i in indices[:r])\n",
      "    while n:\n",
      "        for i in reversed(range(r)):\n",
      "            cycles[i] -= 1\n",
      "            if cycles[i] == 0:\n",
      "                indices[i:] = indices[i+1:] + indices[i:i+1]\n",
      "                cycles[i] = n - i\n",
      "            else:\n",
      "                j = cycles[i]\n",
      "                indices[i], indices[-j] = indices[-j], indices[i]\n",
      "                yield tuple(pool[i] for i in indices[:r])\n",
      "                break\n",
      "        else:\n",
      "            return"
     ],
     "language": "python",
     "metadata": {},
     "outputs": []
    },
    {
     "cell_type": "markdown",
     "metadata": {},
     "source": [
      "##Problema 25"
     ]
    },
    {
     "cell_type": "code",
     "collapsed": false,
     "input": [
      "from IPython.display import HTML\n",
      "HTML('<iframe src=\"https://projecteuler.net/problem=25\" width=800 height=400></iframe>')"
     ],
     "language": "python",
     "metadata": {},
     "outputs": [
      {
       "html": [
        "<iframe src=\"https://projecteuler.net/problem=25\" width=800 height=400></iframe>"
       ],
       "metadata": {},
       "output_type": "pyout",
       "prompt_number": 9,
       "text": [
        "<IPython.core.display.HTML at 0x7fc345269950>"
       ]
      }
     ],
     "prompt_number": 9
    },
    {
     "cell_type": "code",
     "collapsed": false,
     "input": [
      "import time\n",
      "\n",
      "start = time.time()\n",
      "        \n",
      "\n",
      "def fib():\n",
      "    a, b = 0, 1\n",
      "    while True:\n",
      "        yield a\n",
      "        a, b = b, a + b\n",
      "\n",
      "f = fib()\n",
      "for i in range(10000):\n",
      "    d = next(f)\n",
      "    if len(str(d)) == 1000:\n",
      "        print(i)\n",
      "        break\n",
      "\n",
      "print(\"t = {:.5f} seg\".format(time.time() - start))\n",
      "    "
     ],
     "language": "python",
     "metadata": {},
     "outputs": [
      {
       "output_type": "stream",
       "stream": "stdout",
       "text": [
        "4782\n",
        "t = 0.03068 seg\n"
       ]
      }
     ],
     "prompt_number": 32
    },
    {
     "cell_type": "code",
     "collapsed": false,
     "input": [
      "10\n",
      "print(len(str(10)))"
     ],
     "language": "python",
     "metadata": {},
     "outputs": [
      {
       "output_type": "stream",
       "stream": "stdout",
       "text": [
        "2\n"
       ]
      }
     ],
     "prompt_number": 17
    },
    {
     "cell_type": "code",
     "collapsed": false,
     "input": [],
     "language": "python",
     "metadata": {},
     "outputs": []
    }
   ],
   "metadata": {}
  }
 ]
}