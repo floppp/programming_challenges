{
 "metadata": {
  "name": "",
  "signature": "sha256:17fa311b68974297fe66e44b583ba0decf7791a55093ff239ddadefe86af6e1f"
 },
 "nbformat": 3,
 "nbformat_minor": 0,
 "worksheets": [
  {
   "cells": [
    {
     "cell_type": "markdown",
     "metadata": {},
     "source": [
      "##problema 28"
     ]
    },
    {
     "cell_type": "code",
     "collapsed": false,
     "input": [
      "## No hay que rellenar nada, hay que ver como evolucionan los valores en las diagonales\n",
      "# Diagonal de top-left -> bottom-right\n",
      "N = 1001\n",
      "sum1 = 1\n",
      "sumT = 1\n",
      "inc = 2\n",
      "for i in range(1, N):\n",
      "    sum1 += inc\n",
      "#     print(sum1)\n",
      "    inc += 2\n",
      "    sumT += sum1\n",
      "\n",
      "print('######')\n",
      "# Diagoanl de top-right -> bottom-left\n",
      "sum2 = 1\n",
      "inc2 = 4\n",
      "for i in range(1, N):\n",
      "    sum2 += inc2\n",
      "#     print(sum2)\n",
      "    if (i % 2 == 0):\n",
      "        inc2 += 4\n",
      "    sumT += sum2\n",
      "    \n",
      "print(sumT)\n",
      "\n",
      "# No calculo tiempo porque es casi instantaneo"
     ],
     "language": "python",
     "metadata": {},
     "outputs": [
      {
       "output_type": "stream",
       "stream": "stdout",
       "text": [
        "######\n",
        "669171001\n"
       ]
      }
     ],
     "prompt_number": 34
    },
    {
     "cell_type": "code",
     "collapsed": false,
     "input": [
      "No"
     ],
     "language": "python",
     "metadata": {},
     "outputs": [],
     "prompt_number": 24
    },
    {
     "cell_type": "code",
     "collapsed": false,
     "input": [
      "for i in a:\n",
      "    print(i)"
     ],
     "language": "python",
     "metadata": {},
     "outputs": [
      {
       "output_type": "stream",
       "stream": "stdout",
       "text": [
        "[ 21.  22.  23.  24.  25.]\n",
        "[ 0.  2.  0.  0.  0.]\n",
        "[ 0.  0.  2.  0.  0.]\n",
        "[ 0.  0.  0.  2.  0.]\n",
        "[ 0.  0.  0.  0.  0.]\n"
       ]
      }
     ],
     "prompt_number": 25
    },
    {
     "cell_type": "code",
     "collapsed": false,
     "input": [],
     "language": "python",
     "metadata": {},
     "outputs": []
    }
   ],
   "metadata": {}
  }
 ]
}