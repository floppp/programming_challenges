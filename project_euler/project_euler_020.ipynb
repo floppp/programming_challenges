{
 "metadata": {
  "name": "",
  "signature": "sha256:6d38c7a93a8b2752cc57fbfcbbf8fb4ee17c827d90051212839a564fb3e1cdf7"
 },
 "nbformat": 3,
 "nbformat_minor": 0,
 "worksheets": [
  {
   "cells": [
    {
     "cell_type": "markdown",
     "metadata": {},
     "source": [
      "##Ejercicio 11"
     ]
    },
    {
     "cell_type": "markdown",
     "metadata": {},
     "source": [
      "In the 20\u00d720 grid below, four numbers along a diagonal line have been marked in red.\n",
      "The product of these numbers is 26 \u00d7 63 \u00d7 78 \u00d7 14 = 1788696.\n",
      "\n",
      "What is the greatest product of four adjacent numbers in the same direction (up, down, left, right, or diagonally) in the 20\u00d720 grid?"
     ]
    },
    {
     "cell_type": "code",
     "collapsed": false,
     "input": [
      "\"\"\"\n",
      "In, the, 20\u00d720, grid, below,, four, numbers, along, a, diagonal, line, have, been, marked, in, red.\n",
      "The, product, of, these, numbers, is, 26, \u00d7, 63, \u00d7, 78, \u00d7, 14, =, 1788696.\n",
      "\n",
      "What, is, the, greatest, product, of, four, adjacent, numbers, in, the, same, direction\n",
      "(up,, down,, left,, right,, or, diagonally), in, the, 20\u00d720, grid?\n",
      "\"\"\"\n",
      "import numpy\n",
      "import time, timeit\n",
      "\n",
      "def diag():\n",
      "    n = numpy.array(\n",
      "    [[ 8,  2, 22, 97, 38, 15,  0, 40,  0, 75,  4,  5,  7, 78, 52, 12, 50, 77, 91,  8],\n",
      "    [49, 49, 99, 40, 17, 81, 18, 57, 60, 87, 17, 40, 98, 43, 69, 48,  4, 56, 62,  0],\n",
      "    [81, 49, 31, 73, 55, 79, 14, 29, 93, 71, 40, 67, 53, 88, 30,  3, 49, 13, 36, 65],\n",
      "    [52, 70, 95, 23,  4, 60, 11, 42, 69, 24, 68, 56,  1, 32, 56, 71, 37,  2, 36, 91],\n",
      "    [22, 31, 16, 71, 51, 67, 63, 89, 41, 92, 36, 54, 22, 40, 40, 28, 66, 33, 13, 80],\n",
      "    [24, 47, 32, 60, 99,  3, 45,  2, 44, 75, 33, 53, 78, 36, 84, 20, 35, 17, 12, 50],                \n",
      "    [32, 98, 81, 28, 64, 23, 67, 10, 26, 38, 40, 67, 59, 54, 70, 66, 18, 38, 64, 70],\n",
      "    [67, 26, 20, 68,  2, 62, 12, 20, 95, 63, 94, 39, 63,  8, 40, 91, 66, 49, 94, 21],               \n",
      "    [24, 55, 58,  5, 66, 73, 99, 26, 97, 17, 78, 78, 96, 83, 14, 88, 34, 89, 63, 72],\n",
      "    [21, 36, 23,  9, 75,  0, 76, 44, 20, 45, 35, 14,  0, 61, 33, 97, 34, 31, 33, 95],\n",
      "    [78, 17, 53, 28, 22, 75, 31, 67, 15, 94,  3, 80,  4, 62, 16, 14,  9, 53, 56, 92],\n",
      "    [16, 39,  5, 42, 96, 35, 31, 47, 55, 58, 88, 24,  0, 17, 54, 24, 36, 29, 85, 57],\n",
      "    [86, 56,  0, 48, 35, 71, 89,  7,  5, 44, 44, 37, 44, 60, 21, 58, 51, 54, 17, 58],\n",
      "    [19, 80, 81, 68,  5, 94, 47, 69, 28, 73, 92, 13, 86, 52, 17, 77,  4, 89, 55, 40],\n",
      "    [ 4, 52,  8, 83, 97, 35, 99, 16,  7, 97, 57, 32, 16, 26, 26, 79, 33, 27, 98, 66],\n",
      "    [88, 36, 68, 87, 57, 62, 20, 72,  3, 46, 33, 67, 46, 55, 12, 32, 63, 93, 53, 69],\n",
      "    [ 4, 42, 16, 73, 38, 25, 39, 11, 24, 94, 72, 18,  8, 46, 29, 32, 40, 62, 76, 36],\n",
      "    [20, 69, 36, 41, 72, 30, 23, 88, 34, 62, 99, 69, 82, 67, 59, 85, 74,  4, 36, 16],\n",
      "    [20, 73, 35, 29, 78, 31, 90,  1, 74, 31, 49, 71, 48, 86, 81, 16, 23, 57,  5, 54],\n",
      "    [ 1, 70, 54, 71, 83, 51, 54, 69, 16, 92, 33, 48, 61, 43, 52,  1, 89, 19, 67, 48]]\n",
      "    )\n",
      "    max_value = 0\n",
      "    max_reg = {}\n",
      "    for i in range(20):                 \n",
      "        for j in range(20):\n",
      "            v_fila = v_diag_sup = v_diag_inf = v_col = 1\n",
      "            if j < 17:\n",
      "                for k in range(4):\n",
      "                    v_fila *= n[i][j + k]\n",
      "                    v_col  *= n[j + k][i] \n",
      "                    if i < 17:\n",
      "                        v_diag_inf *= n[i + k][j + k]\n",
      "\n",
      "            if i < 17 and j > 2:\n",
      "                for k in range(4):\n",
      "                    v_diag_sup *= n[i + k][j - k] \n",
      "\n",
      "            # La forma mas elegante y concisa y rapida (aunque parezca mentira)\n",
      "            # almacenando datos en un diccionario con los distintos valores que han\n",
      "            # ido siendo los mayores, y las posiciones en que se dan\n",
      "            if max_value < max(v_fila, v_diag_sup, v_diag_inf, v_col):\n",
      "                max_value = max(v_fila, v_diag_sup, v_diag_inf, v_col)\n",
      "                max_reg[(i, j)] = max_value\n",
      "#             maxi.append({(i, j): max(v_fila, v_diag_sup, v_diag_inf, v_col)})max(v_fila, v_diag_sup, v_diag_inf, v_col)})\n",
      "    return max_reg\n",
      "\n",
      "inicio = time.time()\n",
      "print(max(diag().values()))\n",
      "print(\"Tiempo: {:.5f} segundos\".format(time.time() - inicio))\n",
      "\n",
      "# RESULTADO 70.600.674 Tiempo: 0.00259 segundos\n",
      "\n",
      "# Muy buen tema en StackOverflow\n",
      "# http://stackoverflow.com/questions/8023306/get-key-by-value-in-dictionary"
     ],
     "language": "python",
     "metadata": {},
     "outputs": [
      {
       "output_type": "stream",
       "stream": "stdout",
       "text": [
        "70600674\n",
        "Tiempo: 0.00235 segundos\n"
       ]
      }
     ],
     "prompt_number": 142
    },
    {
     "cell_type": "markdown",
     "metadata": {},
     "source": [
      "##Ejercicio 12"
     ]
    },
    {
     "cell_type": "markdown",
     "metadata": {},
     "source": [
      "The sequence of triangle numbers is generated by adding the natural numbers. So the 7th triangle number would be 1 + 2 + 3 + 4 + 5 + 6 + 7 = 28. The first ten terms would be:\n",
      "\n",
      "1, 3, 6, 10, 15, 21, 28, 36, 45, 55, ...\n",
      "\n",
      "Let us list the factors of the first seven triangle numbers:\n",
      "\n",
      " 1: 1\n",
      " \n",
      " 3: 1,3\n",
      " \n",
      " 6: 1,2,3,6\n",
      "\n",
      "10: 1,2,5,10\n",
      "\n",
      "15: 1,3,5,15\n",
      "\n",
      "21: 1,3,7,21\n",
      "\n",
      "28: 1,2,4,7,14,28\n",
      "\n",
      "We can see that 28 is the first triangle number to have over five divisors.\n",
      "\n",
      "What is the value of the first triangle number to have over five hundred divisors?"
     ]
    },
    {
     "cell_type": "code",
     "collapsed": false,
     "input": [
      "import cython  # Su uso no mejora al trabajar sobretodo con listas. Hay que pasarlas a listas\n",
      "               # de C mediante gestion dinamica para aprovecharlo realmente\n",
      "\n",
      "from math import sqrt\n",
      "import time, timeit\n",
      "\n",
      "@cython.locals(i=cython.int)\n",
      "def divisores(numero):\n",
      "    a = [i for i in range(1, numero // 2 + 1) if not numero % i]\n",
      "    a.append(numero)\n",
      "    return a\n",
      "\n",
      "# Hacer esto asi y no con sum(lista) es infinitamente mas rapido\n",
      "@cython.cfunc\n",
      "@cython.returns(cython.int)\n",
      "@cython.locals(numero=cython.int)\n",
      "def numero_divisores(numero):\n",
      "    return sum(2 for i in range(1, int(sqrt(numero)) + 1) if not numero % i)\n",
      "    \n",
      "@cython.cfunc\n",
      "@cython.returns(cython.int)\n",
      "@cython.locals(i=cython.int)\n",
      "def gen_triangular():\n",
      "    for i in range(1000000):\n",
      "        yield sum(range(i))\n",
      "\n",
      "@cython.cfunc\n",
      "@cython.returns(cython.int)\n",
      "@cython.locals(i=cython.int)\n",
      "def main():\n",
      "    for i in generador:\n",
      "        if numero_divisores(i) > 500:\n",
      "            return i"
     ],
     "language": "python",
     "metadata": {},
     "outputs": [],
     "prompt_number": 4
    },
    {
     "cell_type": "code",
     "collapsed": false,
     "input": [
      "inicio = time.time()\n",
      "\n",
      "generador = gen_triangular()\n",
      "\n",
      "print(\"El primer numero triangular con mas de 500 divisores es {}\".format(main()))\n",
      "print(\"Tiempo: {:.5f} segundos\".format(time.time() - inicio))\n",
      "\n",
      "# Sin cython: 6.50812 segundos"
     ],
     "language": "python",
     "metadata": {},
     "outputs": [
      {
       "output_type": "stream",
       "stream": "stdout",
       "text": [
        "El primer numero triangular con mas de 500 divisor es 76576500\n",
        "Tiempo: 6.56195 segundos\n"
       ]
      }
     ],
     "prompt_number": 5
    },
    {
     "cell_type": "markdown",
     "metadata": {},
     "source": [
      "##Ejercicio 13"
     ]
    },
    {
     "cell_type": "markdown",
     "metadata": {},
     "source": [
      "Work out the first ten digits of the sum of the following one-hundred 50-digit numbers."
     ]
    },
    {
     "cell_type": "code",
     "collapsed": false,
     "input": [
      "r = open('./numero_ejercicio_13.txt')\n",
      "s = 0\n",
      "for i in r:\n",
      "    s += int(i)\n",
      "print(s)"
     ],
     "language": "python",
     "metadata": {},
     "outputs": [
      {
       "output_type": "stream",
       "stream": "stdout",
       "text": [
        "5537376230390876637302048746832985971773659831892672\n"
       ]
      }
     ],
     "prompt_number": 7
    },
    {
     "cell_type": "markdown",
     "metadata": {},
     "source": [
      "##Ejercicio14"
     ]
    },
    {
     "cell_type": "code",
     "collapsed": false,
     "input": [
      "from IPython.display import HTML\n",
      "HTML('<iframe src=\"https://projecteuler.net/problem=14\" width=800 height=400></iframe>')"
     ],
     "language": "python",
     "metadata": {},
     "outputs": [
      {
       "html": [
        "<iframe src=\"https://projecteuler.net/problem=14\" width=800 height=400></iframe>"
       ],
       "metadata": {},
       "output_type": "pyout",
       "prompt_number": 78,
       "text": [
        "<IPython.core.display.HTML at 0x7fe78d11a110>"
       ]
      }
     ],
     "prompt_number": 78
    },
    {
     "cell_type": "code",
     "collapsed": false,
     "input": [
      "## VERSION RECURSIVA SIN MEJORAS\n",
      "#  Tiempo: 55.16645 segundos (con operacion binaria aprox lo mismo)\n",
      "#  Resultado 837.799\n",
      "\n",
      "import time\n",
      "\n",
      "def collatz(n, lista):\n",
      "    lista.append(n)\n",
      "    if n == 1:\n",
      "        return 1, lista\n",
      "    elif n % 2:\n",
      "        return collatz(int(n*3 + 1), lista)\n",
      "    else:\n",
      "        return collatz(n >> 1, lista)\n",
      "    \n",
      "start = time.time()\n",
      "max_len = max_num = 0\n",
      "lista = []\n",
      "for i in range(1, 27):\n",
      "    lista = collatz(i, [])[1]\n",
      "    length = len(lista)\n",
      "    if length > max_len:\n",
      "        max_len = length\n",
      "        max_num = i\n",
      "print(\"La cadena del numero {} tiene {} elementos\".format(max_num, max_len))\n",
      "print(\"Tiempo: {:.5f} segundos\".format(time.time() - start))"
     ],
     "language": "python",
     "metadata": {},
     "outputs": [
      {
       "output_type": "stream",
       "stream": "stdout",
       "text": [
        "La cadena del numero 25 tiene 24 elementos\n",
        "Tiempo: 0.00043 segundos\n"
       ]
      }
     ],
     "prompt_number": 2
    },
    {
     "cell_type": "code",
     "collapsed": false,
     "input": [
      "## VERSION RECURSIVA - CONTADOR EN VEZ DE LISTA\n",
      "#  Tiempo: 46.91166 segundos; MEJOR que con listas\n",
      "#  Resultado 837.799\n",
      "\n",
      "import time\n",
      "\n",
      "def collatz(n, count):\n",
      "    count += 1\n",
      "    if n == 1:\n",
      "        return 1, count\n",
      "    elif n % 2:\n",
      "        return collatz(int(n*3 + 1), count)\n",
      "    else:\n",
      "        return collatz(n >> 1, count)\n",
      "    \n",
      "start = time.time()\n",
      "max_len = max_num = 0\n",
      "length = 0\n",
      "for i in range(1, 10000):\n",
      "    length = collatz(i, 0)[1]\n",
      "    if length > max_len:\n",
      "        max_len = length\n",
      "        max_num = i\n",
      "print(\"La cadena del numero {} tiene {} elementos\".format(max_num, max_len))\n",
      "print(\"Tiempo: {:.5f} segundos\".format(time.time() - start))"
     ],
     "language": "python",
     "metadata": {},
     "outputs": [
      {
       "output_type": "stream",
       "stream": "stdout",
       "text": [
        "La cadena del numero 6171 tiene 262 elementos\n",
        "Tiempo: 0.30881 segundos\n"
       ]
      }
     ],
     "prompt_number": 12
    },
    {
     "cell_type": "code",
     "collapsed": false,
     "input": [
      "## VERSION ITERATIVA SIN MEJORAS\n",
      "#  Tiempo: 25.73280 segundos; MEJOR que recursivas\n",
      "#  Resultado 837.799\n",
      "\n",
      "import time\n",
      "\n",
      "def collatz(n):\n",
      "    count = 1  # Para contar el propio 1\n",
      "    while n > 1:\n",
      "        if n % 2:\n",
      "            n = 3*n + 1\n",
      "        else:\n",
      "            n = n >> 1\n",
      "        count += 1\n",
      "    return n, count\n",
      "    \n",
      "start = time.time()\n",
      "max_len = max_num = 0\n",
      "for i in range(1, 100000):\n",
      "    num, length = collatz(i)\n",
      "    if length > max_len:\n",
      "        max_len = length\n",
      "        max_num = i\n",
      "print(\"La cadena del numero {} tiene {} elementos\".format(max_num, max_len))\n",
      "print(\"Tiempo: {:.5f} segundos\".format(time.time() - start))"
     ],
     "language": "python",
     "metadata": {},
     "outputs": [
      {
       "output_type": "stream",
       "stream": "stdout",
       "text": [
        "La cadena del numero 77031 tiene 351 elementos\n",
        "Tiempo: 2.09933 segundos\n"
       ]
      }
     ],
     "prompt_number": 31
    },
    {
     "cell_type": "code",
     "collapsed": false,
     "input": [
      "%load_ext cythonmagic"
     ],
     "language": "python",
     "metadata": {},
     "outputs": [],
     "prompt_number": 1
    },
    {
     "cell_type": "code",
     "collapsed": false,
     "input": [
      "%%cython\n",
      "\n",
      "## VERSION ITERATIVA CYTHON\n",
      "#  Tiempo: 15.87660 segundos; MEJOR que recursivas\n",
      "#  Resultado 837.799 - 525 elementos\n",
      "#  Con declaraciones -> 14.21716 segundos\n",
      "\n",
      "import time\n",
      "\n",
      "# import numpy as np\n",
      "# cimport numpy as np\n",
      "cimport cython\n",
      "\n",
      "@cython.cfunc\n",
      "@cython.cdivision(True)  # Directiva a true para evitar comprobaciones\n",
      "# @cython.locals(n=cython.int) ## no puedo ponerlo porque se ralla\n",
      "@cython.locals(count=cython.int)\n",
      "def collatz(n):\n",
      "#     count = cython.declare(cython.int, 1)  # Para contar el propio 1\n",
      "    count = 1\n",
      "    while n > 1:\n",
      "        if n % 2:\n",
      "            n = 3*n + 1\n",
      "        else:\n",
      "            n = n >> 1\n",
      "        count += 1\n",
      "    return n, count\n",
      "\n",
      "@cython.cdivision(True)\n",
      "def main():\n",
      "    # DECLARACIONES\n",
      "    cdef int max_len, max_num, num, length\n",
      "    start   = cython.declare(cython.double, time.time())\n",
      "    max_len = 0\n",
      "    for i in range(1, 300000):\n",
      "        num, length = collatz(i)\n",
      "        if length > max_len:\n",
      "            max_len = length\n",
      "            max_num = i\n",
      "    print(\"La cadena del numero {} tiene {} elementos\".format(max_num, max_len))\n",
      "    print(\"Tiempo: {:.5f} segundos\".format(time.time() - start))\n",
      "\n",
      "main()"
     ],
     "language": "python",
     "metadata": {},
     "outputs": [
      {
       "output_type": "stream",
       "stream": "stdout",
       "text": [
        "La cadena del numero 230631 tiene 443 elementos\n",
        "Tiempo: 3.88586 segundos\n"
       ]
      }
     ],
     "prompt_number": 24
    },
    {
     "cell_type": "code",
     "collapsed": false,
     "input": [
      "%%cython\n",
      "\n",
      "## VERSION ITERATIVA CYTHON - CON CACHE\n",
      "#  Tiempo: 1.50683 segundos; MEJORA enorme\n",
      "#  Resultado 837.799 - 525 elementos\n",
      "\n",
      "import time\n",
      "\n",
      "# import numpy as np\n",
      "# cimport numpy as np\n",
      "cimport cython\n",
      "\n",
      "CACHE = {}\n",
      "\n",
      "@cython.cfunc\n",
      "@cython.cdivision(True)  # Directiva a true para evitar comprobaciones\n",
      "# @cython.locals(n=cython.int) ## no puedo ponerlo porque se ralla\n",
      "@cython.locals(count=cython.int)\n",
      "def collatz(n):\n",
      "    global CACHE\n",
      "    CACHE[1] = 1\n",
      "    CACHE[2] = 2\n",
      "    count, aux = 0, n\n",
      "#     aux = n\n",
      "    while n > 1:\n",
      "        if n in CACHE:\n",
      "            count += CACHE[n]\n",
      "            CACHE[aux] = count\n",
      "            return n, count\n",
      "        else:\n",
      "            if n % 2:\n",
      "                n = 3*n + 1\n",
      "            else:\n",
      "                n = n >> 1\n",
      "        count += 1\n",
      "    CACHE[aux] = count\n",
      "    return n, count\n",
      "\n",
      "@cython.cdivision(True)\n",
      "def main():\n",
      "    # DECLARACIONES\n",
      "    cdef int max_len, max_num, num, length\n",
      "    start   = cython.declare(cython.double, time.time())\n",
      "    max_len = 0\n",
      "    for i in range(2, 1000000):\n",
      "        num, length = collatz(i)\n",
      "        if length > max_len:\n",
      "            max_len = length\n",
      "            max_num = i\n",
      "    print(\"La cadena del numero {} tiene {} elementos\".format(max_num, max_len))\n",
      "    print(\"Tiempo: {:.5f} segundos\".format(time.time() - start))\n",
      "\n",
      "main()"
     ],
     "language": "python",
     "metadata": {},
     "outputs": [
      {
       "output_type": "stream",
       "stream": "stdout",
       "text": [
        "La cadena del numero 837799 tiene 525 elementos\n",
        "Tiempo: 1.50683 segundos\n"
       ]
      }
     ],
     "prompt_number": 6
    },
    {
     "cell_type": "markdown",
     "metadata": {},
     "source": [
      "##Ejercicio 15"
     ]
    },
    {
     "cell_type": "code",
     "collapsed": false,
     "input": [
      "from IPython.display import HTML\n",
      "HTML('<iframe src=\"https://projecteuler.net/problem=15\" width=800 height=400></iframe>')"
     ],
     "language": "python",
     "metadata": {},
     "outputs": [
      {
       "html": [
        "<iframe src=\"https://projecteuler.net/problem=15\" width=800 height=400></iframe>"
       ],
       "metadata": {},
       "output_type": "pyout",
       "prompt_number": 5,
       "text": [
        "<IPython.core.display.HTML at 0x7f6b25314890>"
       ]
      }
     ],
     "prompt_number": 5
    },
    {
     "cell_type": "code",
     "collapsed": false,
     "input": [
      "## PARA RESOLVER ESTE PROBLEMA HACE FALTA TENERLO CLARO DESDE EL PRINCIPIO\n",
      "## CON EL METODO DE LA ULTIMA CELDA ES INFINITAMENTE MAS FACIL Y RAPIDO\n",
      "\n",
      "# Para entender este metodo, hay que pensar a partir de un caso base de n = 2\n",
      "# y a partir de ahi ir viendo caminos posibles a cada celda desde una hipotetica\n",
      "# casilla 0,0\n",
      "# Al aumentar para mayores n's se sigue la misma matematica por lo que podemos\n",
      "# aplicar lo hallado para n = 2. Programarlo es tremendamente facil\n",
      "\n",
      "def lattice_paths(n: \"Integer\") -> \"Iterable[Int]\":\n",
      "    camino = [[0]*(n + 1) for i in range(n + 1)]\n",
      "    for row in range(n + 1):\n",
      "        for col in range(n + 1):\n",
      "            if row == 0 or col == 0:\n",
      "                camino[row][col] = 1\n",
      "            else:\n",
      "                camino[row][col] = camino[row - 1][col] + camino[row][col - 1]\n",
      "    return camino\n",
      "\n",
      "start = time.time()\n",
      "for i in range(100):\n",
      "    lattice_paths(20)\n",
      "print(\"Tiempo: {:.5f} segundos\".format(time.time() - start))  "
     ],
     "language": "python",
     "metadata": {},
     "outputs": [
      {
       "output_type": "stream",
       "stream": "stdout",
       "text": [
        "Tiempo: 0.01856 segundos\n"
       ]
      }
     ],
     "prompt_number": 83
    },
    {
     "cell_type": "code",
     "collapsed": false,
     "input": [
      "## FORMA MAS RAPIDA. COPIADA DE WEB. POCO INTUITIVA\n",
      "## AUN CONSIGUE MAYOR VELOCIDAD CON CYTHON Y MALLOC\n",
      "\n",
      "import time\n",
      "\n",
      "def route_num(cube_size):\n",
      "    L = [1] * cube_size\n",
      "    for i in range(cube_size):\n",
      "        for j in range(i):\n",
      "            L[j] = L[j]+L[j-1]\n",
      "        L[i] = 2 * L[i - 1]\n",
      "    return L[cube_size - 1]\n",
      " \n",
      "start = time.time()\n",
      "n = route_num(20)\n",
      "elapsed = (time.time() - start)\n",
      "print(\"{} found in {} seconds\".format(n,elapsed))"
     ],
     "language": "python",
     "metadata": {},
     "outputs": [
      {
       "output_type": "stream",
       "stream": "stdout",
       "text": [
        "137846528820 found in 0.00013113021850585938 seconds\n"
       ]
      }
     ],
     "prompt_number": 3
    },
    {
     "cell_type": "code",
     "collapsed": false,
     "input": [
      "## Calculando factoriales (con combinatoria), mucho mas rapido\n",
      "#  ( 40  20 )\n",
      "import time\n",
      "\n",
      "def combinaciones(n, k):\n",
      "    n = factorial(n) / (factorial(k)*factorial(n - k))\n",
      "    return int(n)\n",
      "\n",
      "def factorial(n):\n",
      "    a = 1\n",
      "    while n > 1:\n",
      "        a *= n\n",
      "        n -= 1\n",
      "    return int(a)\n",
      "\n",
      "start = time.time()\n",
      "for i in range(100):\n",
      "    combinaciones(40, 20)\n",
      "print(\"Tiempo: {:.5f} segundos\".format(time.time() - start))    "
     ],
     "language": "python",
     "metadata": {},
     "outputs": [
      {
       "output_type": "stream",
       "stream": "stdout",
       "text": [
        "Tiempo: 0.00128 segundos\n"
       ]
      }
     ],
     "prompt_number": 2
    },
    {
     "cell_type": "markdown",
     "metadata": {},
     "source": [
      "####OTRA FORMA NO IMPLEMENTADA ES MEDIANTE TRIANGULOS DE PASCAL, TAMBIEN MUY FACIL DE PROGRAMAR"
     ]
    },
    {
     "cell_type": "markdown",
     "metadata": {},
     "source": [
      "##Ejercicio 16"
     ]
    },
    {
     "cell_type": "code",
     "collapsed": false,
     "input": [
      "\"\"\"\n",
      "2^15 = 32768 and the sum of its digits is 3 + 2 + 7 + 6 + 8 = 26.\n",
      "\n",
      "What is the sum of the digits of the number 2^1000?\n",
      "\"\"\"\n",
      "import time, timeit\n",
      "\n",
      "def suma_digitos(base=2, exp=1):\n",
      "    suma = 0\n",
      "    res = str(base**exp)\n",
      "    for i in range(len(res)):\n",
      "        suma += int(res[i])\n",
      "    return suma\n",
      "\n",
      "start = time.time()\n",
      "\n",
      "print(suma_digitos(2, 1000))\n",
      "print(\"tiempo = {:.5f} seg\".format(time.time() - start))"
     ],
     "language": "python",
     "metadata": {},
     "outputs": [
      {
       "output_type": "stream",
       "stream": "stdout",
       "text": [
        "1366\n",
        "tiempo = 0.00025 seg\n"
       ]
      }
     ],
     "prompt_number": 2
    },
    {
     "cell_type": "markdown",
     "metadata": {},
     "source": [
      "##Ejercicio 17"
     ]
    },
    {
     "cell_type": "code",
     "collapsed": false,
     "input": [
      "\"\"\"\n",
      "If the numbers 1 to 5 are written out in words: one, two, three, four, five, then\n",
      "there are 3 + 3 + 5 + 4 + 4 = 19 letters used in total.\n",
      "\n",
      "If all the numbers from 1 to 1000 (one thousand) inclusive were written out in\n",
      "words, how many letters would be used?\n",
      "\n",
      "NOTE: Do not count spaces or hyphens. For example, 342 (three hundred and\n",
      "forty-two) contains 23 letters and 115 (one hundred and fifteen) contains\n",
      "20 letters. The use of \"and\" when writing out numbers is in compliance with\n",
      "British usage.\n",
      "\"\"\"\n",
      "import time, timeit\n",
      "\n",
      "def number_to_letter(n: \"Int\") -> \"str\":\n",
      "#             1   2   3   4   5   6   7   8   9  10  11  12  13  14  15  16  17  18  19    \n",
      "    u = [ 0,  3,  3,  5,  4,  4,  3,  5,  5,  4,  3,  6,  6,  8,  8,  7,  7,  8,  9,  8 ]\n",
      "    d = [ 0,  4,  6,  6,  6,  5,  5,  7,  6,  6 ]\n",
      "    c = [ 0,  7, 10, 12, 11, 11, 10, 12, 12, 11 ]\n",
      "    m = [ 0, 11 ]\n",
      "\n",
      "    suma_and = 3\n",
      "    count = 0\n",
      "    for i in range(n, 0, -1):\n",
      "        plus = 0\n",
      "        aux = i\n",
      "        while i > 0:\n",
      "            if i > 999:\n",
      "                plus += m[1]\n",
      "                i -= 1000\n",
      "            elif i > 99:\n",
      "                centena = int(str(i)[0])\n",
      "                i -= centena * 100\n",
      "                plus += c[centena] + suma_and\n",
      "            elif i > 19:\n",
      "                decena = int(str(i)[0])\n",
      "                i -= decena * 10\n",
      "                plus += d[decena]\n",
      "            else:\n",
      "                plus += u[i]\n",
      "                i = 0\n",
      "        count += plus\n",
      "        \n",
      "    return count\n",
      "\n",
      "start = time.time()\n",
      "respuesta = number_to_letter(1000)\n",
      "print(respuesta)\n",
      "print(\"tiempo = {:.5f} seg\".format(time.time() - start))\n",
      "\n",
      "assert respuesta == 21124"
     ],
     "language": "python",
     "metadata": {},
     "outputs": [
      {
       "output_type": "stream",
       "stream": "stdout",
       "text": [
        "20951\n",
        "tiempo = 0.00302 seg\n"
       ]
      },
      {
       "ename": "AssertionError",
       "evalue": "",
       "output_type": "pyerr",
       "traceback": [
        "\u001b[1;31m---------------------------------------------------------------------------\u001b[0m\n\u001b[1;31mAssertionError\u001b[0m                            Traceback (most recent call last)",
        "\u001b[1;32m<ipython-input-1-9ee1ed287a84>\u001b[0m in \u001b[0;36m<module>\u001b[1;34m()\u001b[0m\n\u001b[0;32m     62\u001b[0m \u001b[0mprint\u001b[0m\u001b[1;33m(\u001b[0m\u001b[1;34m\"tiempo = {:.5f} seg\"\u001b[0m\u001b[1;33m.\u001b[0m\u001b[0mformat\u001b[0m\u001b[1;33m(\u001b[0m\u001b[0mtime\u001b[0m\u001b[1;33m.\u001b[0m\u001b[0mtime\u001b[0m\u001b[1;33m(\u001b[0m\u001b[1;33m)\u001b[0m \u001b[1;33m-\u001b[0m \u001b[0mstart\u001b[0m\u001b[1;33m)\u001b[0m\u001b[1;33m)\u001b[0m\u001b[1;33m\u001b[0m\u001b[0m\n\u001b[0;32m     63\u001b[0m \u001b[1;33m\u001b[0m\u001b[0m\n\u001b[1;32m---> 64\u001b[1;33m \u001b[1;32massert\u001b[0m \u001b[0mrespuesta\u001b[0m \u001b[1;33m==\u001b[0m \u001b[1;36m21124\u001b[0m\u001b[1;33m\u001b[0m\u001b[0m\n\u001b[0m",
        "\u001b[1;31mAssertionError\u001b[0m: "
       ]
      }
     ],
     "prompt_number": 1
    },
    {
     "cell_type": "code",
     "collapsed": false,
     "input": [
      "u = [0, 3, 3, 5, 4, 4, 3, 5, 5, 4, 3, 6, 6, 8, 8, 7, 7, 8, 9, 8]\n",
      "d = [0, 4, 6, 6, 6, 5, 5, 7, 6, 6]\n",
      "c = [0, 10, 10, 12, 11, 11, 10, 12, 12]"
     ],
     "language": "python",
     "metadata": {},
     "outputs": [],
     "prompt_number": 19
    },
    {
     "cell_type": "code",
     "collapsed": false,
     "input": [
      "## NO TENGO BIEN EL PROBLEMA\n",
      "## El planteamiento si, pero hay algun numero en ingles \n",
      "## que no se escribir y me jode la cuenta.\n",
      "## He buscado la solucion y la he puesto en el resultado\n",
      "\n",
      "## no se donde fallo"
     ],
     "language": "python",
     "metadata": {},
     "outputs": [],
     "prompt_number": 20
    },
    {
     "cell_type": "markdown",
     "metadata": {},
     "source": [
      "##Ejercicio 18 y 67"
     ]
    },
    {
     "cell_type": "code",
     "collapsed": false,
     "input": [
      "from IPython.display import HTML\n",
      "HTML('<iframe src=\"https://projecteuler.net/problem=18\" width=800 height=400></iframe>')"
     ],
     "language": "python",
     "metadata": {},
     "outputs": [
      {
       "html": [
        "<iframe src=\"https://projecteuler.net/problem=18\" width=800 height=400></iframe>"
       ],
       "metadata": {},
       "output_type": "pyout",
       "prompt_number": 1,
       "text": [
        "<IPython.core.display.HTML at 0x7feaa99f5c10>"
       ]
      }
     ],
     "prompt_number": 1
    },
    {
     "cell_type": "code",
     "collapsed": false,
     "input": [
      "import time\n",
      "\n",
      "start = time.time()\n",
      "\n",
      "num_int = []\n",
      "# numbers = open('problem18.txt')\n",
      "numbers = open('problem67.txt')\n",
      "# Creamos matriz con enteros\n",
      "for i in numbers:\n",
      "    num_int.append([int(j) for j in i.split()])\n",
      "a = [[int(j) for j in i] for i in numbers]\n",
      "def camino(lista):\n",
      "    n = lista[::-1]\n",
      "    while len(n) > 0:\n",
      "        j = 0\n",
      "        while j < (len(n[0]) - 1):\n",
      "            n[1][j] += max(n[0][j], n[0][j + 1])\n",
      "            j += 1\n",
      "        aux = n.pop(0)\n",
      "    return aux\n",
      "        \n",
      "        \n",
      "print(camino(num_int))\n",
      "print(\"Tiempo = {:.5f} seg\".format(time.time() - start))\n",
      "\n",
      "# [7273]\n",
      "# Tiempo = 0.00553 seg\n",
      "# No hago mas pruebas porque me ha salido eficiente de cojones"
     ],
     "language": "python",
     "metadata": {},
     "outputs": [
      {
       "output_type": "stream",
       "stream": "stdout",
       "text": [
        "[7273]\n",
        "Tiempo = 0.00553 seg\n"
       ]
      }
     ],
     "prompt_number": 60
    },
    {
     "cell_type": "markdown",
     "metadata": {},
     "source": [
      "##Ejercicio 19"
     ]
    },
    {
     "cell_type": "code",
     "collapsed": false,
     "input": [
      "from IPython.display import HTML\n",
      "HTML('<iframe src=\"https://projecteuler.net/problem=19\" width=800 height=400></iframe>')"
     ],
     "language": "python",
     "metadata": {},
     "outputs": [
      {
       "html": [
        "<iframe src=\"https://projecteuler.net/problem=19\" width=800 height=400></iframe>"
       ],
       "metadata": {},
       "output_type": "pyout",
       "prompt_number": 15,
       "text": [
        "<IPython.core.display.HTML at 0x7f0eb06fce10>"
       ]
      }
     ],
     "prompt_number": 15
    },
    {
     "cell_type": "markdown",
     "metadata": {},
     "source": [
      "##Ejercicio 20"
     ]
    },
    {
     "cell_type": "code",
     "collapsed": false,
     "input": [
      "from IPython.display import HTML\n",
      "HTML('<iframe src=\"https://projecteuler.net/problem=20\" width=800 height=400></iframe>')"
     ],
     "language": "python",
     "metadata": {},
     "outputs": [
      {
       "html": [
        "<iframe src=\"https://projecteuler.net/problem=20\" width=800 height=400></iframe>"
       ],
       "metadata": {},
       "output_type": "pyout",
       "prompt_number": 1,
       "text": [
        "<IPython.core.display.HTML at 0x7f0eb06c7c90>"
       ]
      }
     ],
     "prompt_number": 1
    },
    {
     "cell_type": "code",
     "collapsed": false,
     "input": [
      "import time \n",
      "\n",
      "start = time.time()\n",
      "\n",
      "def fact(n):\n",
      "    f = 1\n",
      "    while n > 0:\n",
      "        f *= n\n",
      "        n -= 1\n",
      "    return f\n",
      "\n",
      "suma = 0\n",
      "res =  fact(100)\n",
      "for i in str(res):\n",
      "    suma += int(i)\n",
      "\n",
      "# print(res)\n",
      "print(suma)\n",
      "print(\"Tiempo = {:.5f} seg\".format(time.time() - start))\n",
      "\n",
      "# 648\n",
      "# Tiempo = 0.00040 seg"
     ],
     "language": "python",
     "metadata": {},
     "outputs": [
      {
       "output_type": "stream",
       "stream": "stdout",
       "text": [
        "648\n",
        "Tiempo = 0.00040 seg\n"
       ]
      }
     ],
     "prompt_number": 13
    },
    {
     "cell_type": "code",
     "collapsed": false,
     "input": [],
     "language": "python",
     "metadata": {},
     "outputs": []
    }
   ],
   "metadata": {}
  }
 ]
}